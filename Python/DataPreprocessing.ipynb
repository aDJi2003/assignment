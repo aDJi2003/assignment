{
 "cells": [
  {
   "cell_type": "code",
   "execution_count": 23,
   "metadata": {},
   "outputs": [],
   "source": [
    "# Import Library\n",
    "import pandas as pd\n",
    "import seaborn as sns\n",
    "import matplotlib.pyplot as plt\n",
    "import numpy as np\n",
    "from sklearn.preprocessing import StandardScaler\n",
    "from sklearn.decomposition import PCA"
   ]
  },
  {
   "cell_type": "code",
   "execution_count": 24,
   "metadata": {},
   "outputs": [],
   "source": [
    "# Import Dataset\n",
    "df = pd.read_csv('London.csv')"
   ]
  },
  {
   "cell_type": "code",
   "execution_count": 25,
   "metadata": {},
   "outputs": [],
   "source": [
    "# Mengisi nilai null pada attribute Location dengan nilai default 'Unknown'\n",
    "df['Location'] = df['Location'].fillna('Unknown')\n",
    "\n",
    "# Menghitung frequency untuk frequency encoding pada tipe data non-numeric (House Type dan Location)\n",
    "df['House Type Encoded'] = df['House Type'].map(df['House Type'].value_counts() / len(df))\n",
    "df['Location Encoded'] = df['Location'].map(df['Location'].value_counts() / len(df))"
   ]
  },
  {
   "cell_type": "code",
   "execution_count": null,
   "metadata": {},
   "outputs": [],
   "source": [
    "# Menghapus attribute yang tidak diperlukan untuk analisis\n",
    "df = df.drop(['Unnamed: 0', 'Property Name', 'Postal Code', 'House Type', 'Location', 'City/County'], axis=1)\n",
    "\n",
    "# Print 5 baris pertama dataframe\n",
    "print(df.head())"
   ]
  },
  {
   "cell_type": "code",
   "execution_count": null,
   "metadata": {},
   "outputs": [],
   "source": [
    "def detect_outliers_iqr(data):\n",
    "    outliers_dict = {}\n",
    "    outliers_index = []\n",
    "    \n",
    "    for col in data.columns:\n",
    "        Q1 = data[col].quantile(0.25)\n",
    "        Q3 = data[col].quantile(0.75)\n",
    "        IQR = Q3 - Q1\n",
    "\n",
    "        lower_bound = Q1 - 1.5 * IQR\n",
    "        upper_bound = Q3 + 1.5 * IQR\n",
    "\n",
    "        # Temukan outliers dan simpan index-nya\n",
    "        outliers = data[(data[col] < lower_bound) | (data[col] > upper_bound)]\n",
    "        outliers_dict[col] = outliers[col]  # Menyimpan outlier per kolom\n",
    "        outliers_index.extend(outliers.index)  # Menyimpan index outlier\n",
    "    \n",
    "    # Return outliers per kolom dan unique index\n",
    "    return outliers_dict, list(set(outliers_index))\n",
    "\n",
    "# Mendeteksi outliers di seluruh dataset\n",
    "outliers_dict, outliers_index = detect_outliers_iqr(df)\n",
    "\n",
    "# Tampilkan jumlah outliers di setiap kolom\n",
    "for col, outliers_in_col in outliers_dict.items():\n",
    "    print(f\"Number of outliers in {col}: {len(outliers_in_col)}\")"
   ]
  },
  {
   "cell_type": "code",
   "execution_count": null,
   "metadata": {},
   "outputs": [],
   "source": [
    "# Menghapus baris yang berisi outliers (berdasarkan index unique)\n",
    "df_cleaned = df.drop(index=outliers_index)\n",
    "\n",
    "# Tampilkan ukuran dataset sebelum dan sesudah menghapus outliers\n",
    "print(f\"Original dataset size: {df.shape[0]}\")\n",
    "print(f\"Cleaned dataset size: {df_cleaned.shape[0]}\")\n",
    "\n",
    "# Tampilkan jumlah total baris yang dihapus\n",
    "print(f\"Total rows removed: {df.shape[0] - df_cleaned.shape[0]}\")"
   ]
  },
  {
   "cell_type": "code",
   "execution_count": null,
   "metadata": {},
   "outputs": [],
   "source": [
    "# Membuat plot komparasi antara atribut sebelum dan sesudah outlier dihilangkan\n",
    "def plot_comparison_before_after(df_before, df_after, column):\n",
    "    plt.figure(figsize=(12, 6))\n",
    "\n",
    "    # Plot sebelum outlier dihilangkan\n",
    "    plt.subplot(1, 2, 1)\n",
    "    sns.boxplot(data=df_before[column])\n",
    "    plt.title(f'Before Removing Outliers: {column}')\n",
    "    \n",
    "    # Plot setelah outlier dihilangkan\n",
    "    plt.subplot(1, 2, 2)\n",
    "    sns.boxplot(data=df_after[column])\n",
    "    plt.title(f'After Removing Outliers: {column}')\n",
    "\n",
    "    plt.tight_layout()\n",
    "    plt.show()\n",
    "\n",
    "# Memilih kolom yang ingin divisualisasikan, misalnya 'No. of Bedrooms'\n",
    "plot_comparison_before_after(df, df_cleaned, 'No. of Bedrooms')\n"
   ]
  },
  {
   "cell_type": "code",
   "execution_count": null,
   "metadata": {},
   "outputs": [],
   "source": [
    "# Membuat correlation matrix\n",
    "correlation_matrix = df_cleaned.corr()\n",
    "print(correlation_matrix)\n",
    "\n",
    "# Visualisasi correlation matrix menggunakan heatmap\n",
    "plt.figure(figsize=(16, 12))\n",
    "sns.heatmap(correlation_matrix, annot=True, cmap='coolwarm', fmt='.2f', linewidths=0.5)\n",
    "plt.xticks(rotation=45, ha='right')\n",
    "plt.title('Correlation Matrix Heatmap')\n",
    "plt.show()"
   ]
  },
  {
   "cell_type": "code",
   "execution_count": null,
   "metadata": {},
   "outputs": [],
   "source": [
    "# Membuat covariance matrix\n",
    "covariance_matrix = df_cleaned.cov()\n",
    "print(covariance_matrix)\n",
    "\n",
    "# Visualisasi covariance matrix menggunakan heatmap\n",
    "plt.figure(figsize=(16, 12))\n",
    "sns.heatmap(covariance_matrix, annot=True, cmap='coolwarm', fmt='.2f', linewidths=0.5)\n",
    "plt.xticks(rotation=45, ha='right')\n",
    "plt.title('Covariance Matrix Heatmap')\n",
    "plt.show()"
   ]
  },
  {
   "cell_type": "code",
   "execution_count": null,
   "metadata": {},
   "outputs": [],
   "source": [
    "# Standarisasi data\n",
    "features = df_cleaned.columns\n",
    "scaler = StandardScaler()\n",
    "df_scaled = scaler.fit_transform(df_cleaned)\n",
    "\n",
    "# Melakukan analisis PCA\n",
    "pca = PCA()\n",
    "pca_result = pca.fit_transform(df_scaled)\n",
    "\n",
    "# Melihat varians yang dijelaskan oleh setiap komponen utama\n",
    "explained_variance = pca.explained_variance_ratio_\n",
    "\n",
    "# Membuat plot untuk melihat cumulative variance explained\n",
    "plt.figure(figsize=(10, 7))\n",
    "plt.plot(np.arange(1, len(explained_variance) + 1), np.cumsum(explained_variance))\n",
    "plt.xlabel('Number of Components')\n",
    "plt.ylabel('Cumulative Explained Variance')\n",
    "plt.title('PCA Cumulative Explained Variance')\n",
    "plt.grid(True)\n",
    "plt.show()\n",
    "\n",
    "# Mengambil 4 Komponen Utama\n",
    "pca = PCA(n_components=4)\n",
    "pca_result_2d = pca.fit_transform(df_scaled)\n",
    "\n",
    "# Menyimpan hasil PCA ke dataframe\n",
    "pca_df = pd.DataFrame(data=pca_result_2d, columns=['PC1', 'PC2', 'PC3', 'PC4'])\n",
    "\n",
    "# Menampilkan 5 baris pertama dari hasil PCA\n",
    "print(pca_df.head())"
   ]
  },
  {
   "cell_type": "code",
   "execution_count": null,
   "metadata": {},
   "outputs": [],
   "source": [
    "# Membuat dataframe dari analisis PCA\n",
    "pca_components = pd.DataFrame(pca.components_, columns=df_cleaned.columns, index=[f'PC{i+1}' for i in range(pca.n_components_)])\n",
    "print(pca_components)\n",
    "\n",
    "# Plot untuk kontribusi masing-masing komponen\n",
    "plt.figure(figsize=(10, 6))\n",
    "sns.heatmap(pca_components, cmap='coolwarm', annot=True)\n",
    "plt.title('PCA Loading Heatmap')\n",
    "plt.xticks(rotation=45, ha='right')\n",
    "plt.show()"
   ]
  }
 ],
 "metadata": {
  "kernelspec": {
   "display_name": "Python 3",
   "language": "python",
   "name": "python3"
  },
  "language_info": {
   "codemirror_mode": {
    "name": "ipython",
    "version": 3
   },
   "file_extension": ".py",
   "mimetype": "text/x-python",
   "name": "python",
   "nbconvert_exporter": "python",
   "pygments_lexer": "ipython3",
   "version": "3.11.5"
  }
 },
 "nbformat": 4,
 "nbformat_minor": 2
}
