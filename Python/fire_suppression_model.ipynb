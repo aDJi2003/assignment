{
 "cells": [
  {
   "cell_type": "code",
   "execution_count": 1,
   "metadata": {},
   "outputs": [],
   "source": [
    "from mesa import Agent, Model\n",
    "from mesa.space import MultiGrid\n",
    "from mesa.time import RandomActivation\n",
    "from mesa.visualization.modules import CanvasGrid\n",
    "from mesa.visualization.ModularVisualization import ModularServer\n",
    "import random"
   ]
  },
  {
   "cell_type": "code",
   "execution_count": 2,
   "metadata": {},
   "outputs": [],
   "source": [
    "class TreeCell(Agent):\n",
    "    def __init__(self, unique_id, model):\n",
    "        super().__init__(unique_id, model)\n",
    "        self.burning = False\n",
    "\n",
    "    def step(self):\n",
    "        if self.burning:\n",
    "            self.burning = False"
   ]
  },
  {
   "cell_type": "code",
   "execution_count": 3,
   "metadata": {},
   "outputs": [],
   "source": [
    "class Firefighter(Agent):\n",
    "    def __init__(self, unique_id, model):\n",
    "        super().__init__(unique_id, model)\n",
    "\n",
    "    def step(self):\n",
    "        possible_moves = self.model.grid.get_neighborhood(\n",
    "            self.pos, moore=True, include_center=False\n",
    "        )\n",
    "        new_position = random.choice(possible_moves)\n",
    "        self.model.grid.move_agent(self, new_position)\n",
    "\n",
    "        cellmates = self.model.grid.get_cell_list_contents([new_position])\n",
    "        for cellmate in cellmates:\n",
    "            if isinstance(cellmate, TreeCell) and cellmate.burning:\n",
    "                cellmate.burning = False"
   ]
  },
  {
   "cell_type": "code",
   "execution_count": 4,
   "metadata": {},
   "outputs": [],
   "source": [
    "class FireModel(Model):\n",
    "    def __init__(self, width, height, density):\n",
    "        super().__init__()\n",
    "        self.num_agents = 5\n",
    "        self.grid = MultiGrid(width, height, True)\n",
    "        self.schedule = RandomActivation(self)\n",
    "\n",
    "        # Create tree cells\n",
    "        for x in range(self.grid.width):\n",
    "            for y in range(self.grid.height):\n",
    "                if random.random() < density:\n",
    "                    tree = TreeCell((x, y), self)\n",
    "                    self.grid.place_agent(tree, (x, y))\n",
    "                    if random.random() < 0.25:\n",
    "                        tree.burning = True\n",
    "\n",
    "        for i in range(self.num_agents):\n",
    "            firefighter = Firefighter(i, self)\n",
    "            self.schedule.add(firefighter)\n",
    "            x = self.random.randrange(self.grid.width)\n",
    "            y = self.random.randrange(self.grid.height)\n",
    "            self.grid.place_agent(firefighter, (x, y))\n",
    "\n",
    "    def step(self):\n",
    "        self.schedule.step()"
   ]
  },
  {
   "cell_type": "code",
   "execution_count": 5,
   "metadata": {},
   "outputs": [],
   "source": [
    "def agent_portrayal(agent):\n",
    "    if isinstance(agent, TreeCell):\n",
    "        portrayal = {\"Shape\": \"rect\", \"w\": 1, \"h\": 1, \"Filled\": \"true\"}\n",
    "        if agent.burning:\n",
    "            portrayal[\"Color\"] = \"red\"\n",
    "        else:\n",
    "            portrayal[\"Color\"] = \"green\"\n",
    "        portrayal[\"Layer\"] = 0\n",
    "    elif isinstance(agent, Firefighter):\n",
    "        portrayal = {\"Shape\": \"circle\", \"r\": 0.5, \"Color\": \"blue\", \"Layer\": 1}\n",
    "    return portrayal\n",
    "\n",
    "width, height = 10, 10\n",
    "density = 0.8\n",
    "\n",
    "grid = CanvasGrid(agent_portrayal, width, height, 500, 500)"
   ]
  },
  {
   "cell_type": "code",
   "execution_count": null,
   "metadata": {},
   "outputs": [],
   "source": [
    "server = ModularServer(\n",
    "    FireModel,\n",
    "    [grid],\n",
    "    \"Fire Suppression Model\",\n",
    "    {\"width\": width, \"height\": height, \"density\": density}\n",
    ")\n",
    "\n",
    "server.port = 8981\n",
    "server.launch()"
   ]
  }
 ],
 "metadata": {
  "kernelspec": {
   "display_name": "Python 3",
   "language": "python",
   "name": "python3"
  },
  "language_info": {
   "codemirror_mode": {
    "name": "ipython",
    "version": 3
   },
   "file_extension": ".py",
   "mimetype": "text/x-python",
   "name": "python",
   "nbconvert_exporter": "python",
   "pygments_lexer": "ipython3",
   "version": "3.11.5"
  }
 },
 "nbformat": 4,
 "nbformat_minor": 2
}
